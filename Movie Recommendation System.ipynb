{
 "cells": [
  {
   "cell_type": "code",
   "execution_count": null,
   "id": "0be48d5c",
   "metadata": {},
   "outputs": [],
   "source": [
    "#Importing Dependencies"
   ]
  },
  {
   "cell_type": "code",
   "execution_count": null,
   "id": "baf84281",
   "metadata": {},
   "outputs": [],
   "source": [
    "import numpy as np\n",
    "import pandas as pd\n",
    "import difflib\n",
    "from sklearn.feature_extraction.text import TfidfVectorizer\n",
    "from sklearn.metrics.pairwise import cosine_similarity"
   ]
  },
  {
   "cell_type": "code",
   "execution_count": null,
   "id": "ec2be45b",
   "metadata": {},
   "outputs": [],
   "source": [
    "#Data Collection and processing"
   ]
  },
  {
   "cell_type": "code",
   "execution_count": null,
   "id": "4a8e187e",
   "metadata": {},
   "outputs": [],
   "source": [
    "movies_data = pd.read_csv('movies.csv')\n",
    "movies_data"
   ]
  },
  {
   "cell_type": "code",
   "execution_count": null,
   "id": "00a8230f",
   "metadata": {},
   "outputs": [],
   "source": [
    "movies_data.shape"
   ]
  },
  {
   "cell_type": "code",
   "execution_count": null,
   "id": "adee741e",
   "metadata": {},
   "outputs": [],
   "source": [
    "selected_features = ['genres', 'keywords', 'tagline', 'cast', 'director']\n",
    "selected_features"
   ]
  },
  {
   "cell_type": "code",
   "execution_count": null,
   "id": "351a21cf",
   "metadata": {},
   "outputs": [],
   "source": [
    "for feature in selected_features:\n",
    "    movies_data[feature] = movies_data[feature].fillna('')"
   ]
  },
  {
   "cell_type": "code",
   "execution_count": null,
   "id": "c1f74ff8",
   "metadata": {},
   "outputs": [],
   "source": [
    "combined_features = movies_data['genres']+ ' '+movies_data['keywords']+' '+movies_data['tagline']+' '+movies_data['cast']+' '+movies_data['director']"
   ]
  },
  {
   "cell_type": "code",
   "execution_count": null,
   "id": "62c846ee",
   "metadata": {},
   "outputs": [],
   "source": [
    "combined_features"
   ]
  },
  {
   "cell_type": "code",
   "execution_count": null,
   "id": "d5d2d2fc",
   "metadata": {},
   "outputs": [],
   "source": [
    "# converting the text data to feature vectors\n",
    "vectorizer = TfidfVectorizer()"
   ]
  },
  {
   "cell_type": "code",
   "execution_count": null,
   "id": "c9ed8e08",
   "metadata": {},
   "outputs": [],
   "source": [
    "feature_vectors = vectorizer.fit_transform(combined_features)\n",
    "feature_vectors"
   ]
  },
  {
   "cell_type": "code",
   "execution_count": null,
   "id": "fe03ef20",
   "metadata": {},
   "outputs": [],
   "source": [
    "#getting the similarity scores using cosine_similarity\n",
    "similarity = cosine_similarity(feature_vectors)\n",
    "similarity"
   ]
  },
  {
   "cell_type": "code",
   "execution_count": null,
   "id": "701db5e1",
   "metadata": {},
   "outputs": [],
   "source": [
    "similarity.shape"
   ]
  },
  {
   "cell_type": "code",
   "execution_count": null,
   "id": "a6c519f1",
   "metadata": {},
   "outputs": [],
   "source": [
    "#getting movie name from user\n",
    "movie_name = input('Enter your favorite movie name : ')\n"
   ]
  },
  {
   "cell_type": "code",
   "execution_count": null,
   "id": "83cb8188",
   "metadata": {},
   "outputs": [],
   "source": [
    "#creating a list with all the movie names given in the dataset\n",
    "list_of_all_titles = movies_data['title'].tolist()\n",
    "list_of_all_titles\n"
   ]
  },
  {
   "cell_type": "code",
   "execution_count": null,
   "id": "5ed30660",
   "metadata": {},
   "outputs": [],
   "source": [
    "#finding close match for the movie selected by the user\n",
    "close_match = difflib.get_close_matches(movie_name, list_of_all_titles)\n",
    "close_match"
   ]
  },
  {
   "cell_type": "code",
   "execution_count": null,
   "id": "f01e1391",
   "metadata": {},
   "outputs": [],
   "source": [
    "close_match = close_match[0]\n",
    "close_match"
   ]
  },
  {
   "cell_type": "code",
   "execution_count": null,
   "id": "1fa51549",
   "metadata": {},
   "outputs": [],
   "source": [
    "#finding index of the movie with title"
   ]
  },
  {
   "cell_type": "code",
   "execution_count": null,
   "id": "ce292d35",
   "metadata": {},
   "outputs": [],
   "source": [
    "index_of_movie =movies_data[movies_data.title == close_match]['index'].values[0]\n",
    "index_of_movie"
   ]
  },
  {
   "cell_type": "code",
   "execution_count": null,
   "id": "b983aecc",
   "metadata": {},
   "outputs": [],
   "source": [
    "#getting a list of similar movies\n",
    "\n",
    "similarity_score = list(enumerate(similarity[index_of_movie]))\n",
    "similarity_score"
   ]
  },
  {
   "cell_type": "code",
   "execution_count": null,
   "id": "a3a6091b",
   "metadata": {},
   "outputs": [],
   "source": [
    "#sort movies based on thier similarity score"
   ]
  },
  {
   "cell_type": "code",
   "execution_count": null,
   "id": "818ea813",
   "metadata": {},
   "outputs": [],
   "source": [
    "sorted_similar_movies = sorted(similarity_score, key = lambda x:x[1], reverse = True)\n",
    "sorted_similar_movies"
   ]
  },
  {
   "cell_type": "code",
   "execution_count": null,
   "id": "a2c6003b",
   "metadata": {},
   "outputs": [],
   "source": [
    "#print name of similar movies o=based on the index\n",
    "\n",
    "\n",
    "print('Movies suggested for you : /n')\n",
    "\n",
    "i = 1\n",
    "for movie in sorted_similar_movies:\n",
    "    index = movie[0]\n",
    "    title_from_index = movies_data[movies_data.index == index]['title'].values[0]\n",
    "    if (i<10):\n",
    "        print(i, '.', title_from_index)\n"
   ]
  },
  {
   "cell_type": "code",
   "execution_count": null,
   "id": "2a8301b9",
   "metadata": {},
   "outputs": [],
   "source": []
  }
 ],
 "metadata": {
  "kernelspec": {
   "display_name": "Python 3 (ipykernel)",
   "language": "python",
   "name": "python3"
  },
  "language_info": {
   "codemirror_mode": {
    "name": "ipython",
    "version": 3
   },
   "file_extension": ".py",
   "mimetype": "text/x-python",
   "name": "python",
   "nbconvert_exporter": "python",
   "pygments_lexer": "ipython3",
   "version": "3.11.3"
  }
 },
 "nbformat": 4,
 "nbformat_minor": 5
}
